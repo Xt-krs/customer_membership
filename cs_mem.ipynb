{
 "cells": [
  {
   "cell_type": "code",
   "execution_count": null,
   "metadata": {},
   "outputs": [
    {
     "ename": "ModuleNotFoundError",
     "evalue": "No module named 'tabulate'",
     "output_type": "error",
     "traceback": [
      "\u001b[0;31m---------------------------------------------------------------------------\u001b[0m",
      "\u001b[0;31mModuleNotFoundError\u001b[0m                       Traceback (most recent call last)",
      "Cell \u001b[0;32mIn[5], line 1\u001b[0m\n\u001b[0;32m----> 1\u001b[0m \u001b[38;5;28;01mfrom\u001b[39;00m \u001b[38;5;21;01mtabulate\u001b[39;00m \u001b[38;5;28;01mimport\u001b[39;00m tabulate  \u001b[38;5;66;03m# to create table\u001b[39;00m\n\u001b[1;32m      2\u001b[0m \u001b[38;5;28;01mfrom\u001b[39;00m \u001b[38;5;21;01mmath\u001b[39;00m \u001b[38;5;28;01mimport\u001b[39;00m sqrt  \u001b[38;5;66;03m# to generate sqrt formula\u001b[39;00m\n\u001b[1;32m      5\u001b[0m \u001b[38;5;28;01mclass\u001b[39;00m \u001b[38;5;21;01mCustomerMembership\u001b[39;00m:\n\u001b[1;32m      6\u001b[0m     \u001b[38;5;66;03m# benefit of mmembership\u001b[39;00m\n",
      "\u001b[0;31mModuleNotFoundError\u001b[0m: No module named 'tabulate'"
     ]
    }
   ],
   "source": [
    "from tabulate import tabulate  # to create table\n",
    "from math import sqrt  # to generate sqrt formula\n",
    "\n",
    "\n",
    "class CustomerMembership:\n",
    "    # benefit of mmembership\n",
    "    benefit = {\n",
    "        \"Membership\": [\"Platinum\", \"Gold\", \"Silver\"],\n",
    "        \"Discount\": [\"15%\", \"10%\", \"8%\"],\n",
    "        \"Another Benefit\": [\"Benefit Silver + Gold +Vacation Voucher+ cashback max 30%\", \"Benefit Silver + Online Transport Voucher\", \"Food Voucher\"]\n",
    "    }\n",
    "\n",
    "    # requirement to be in the membership\n",
    "    requirement = {\n",
    "        \"Membership\": [\"Platinum\", \"Gold\", \"Silver\"],\n",
    "        \"Monthly Expense (mio)\": [8, 6, 5],\n",
    "        \"Monthly Income (mio)\": [15, 10, 7]\n",
    "    }\n",
    "\n",
    "    def __init__(self, username, membership=None):\n",
    "        \"\"\" \n",
    "        Initialize the User object with parameters : username\n",
    "        input: username\n",
    "        \"\"\"\n",
    "        self.username = username\n",
    "        self.membership = membership\n",
    "\n",
    "    def show_benefit(self):\n",
    "        \"\"\"\n",
    "        Display all membership benefit\n",
    "        input : none\n",
    "        \"\"\"\n",
    "        print(\"PacCommerce Membership Benefit\\n\")\n",
    "        print(tabulate(self.benefit, headers=\"keys\",\n",
    "              tablefmt=\"grid\", stralign=\"center\"))\n",
    "\n",
    "    def show_requirement(self):\n",
    "        \"\"\"\n",
    "        Display all membership requirement\n",
    "        input: None\n",
    "        \"\"\"\n",
    "        print(\"PacCommerce Membership Requirement\\n\")\n",
    "        print(tabulate(self.requirement, headers=\"keys\",\n",
    "              tablefmt=\"grid\", stralign=\"center\"))\n",
    "\n",
    "    def predict_membership(self, monthly_expense, monthly_income):\n",
    "        \"\"\"\n",
    "        Predict user membership using euclidean formula\n",
    "        input: monthly_expense, monthly_income\n",
    "        output : display predictted membership\n",
    "        \"\"\"\n",
    "        min_distance = float('inf')  # closest distance to membership level\n",
    "        predicted_membership = None\n",
    "\n",
    "        for level in range(len(self.requirement[\"Membership\"])):\n",
    "            requirement_expense = self.requirement[\"Monthly Expense (mio)\"][level]\n",
    "            requirement_income = self.requirement[\"Monthly Income (mio)\"][level]\n",
    "\n",
    "            # calculate user current distance to membership requirement\n",
    "            distance = sqrt((monthly_expense-requirement_expense)\n",
    "                            ** 2 + (monthly_income-requirement_income)**2)\n",
    "\n",
    "            if distance < min_distance:\n",
    "                min_distance = distance\n",
    "                predicted_membership = self.requirement[\"Membership\"][level]\n",
    "\n",
    "        print(f\"{self.username}'s predicted membership is {\n",
    "              predicted_membership}\")\n",
    "        return predicted_membership\n",
    "\n",
    "    def calculate_price(self, membership, pricelist):\n",
    "        \"\"\" \n",
    "        Calculate total price after membership's benefit applied\n",
    "        input : membership (str), pricelist (list of float)\n",
    "        output : display total price after discount\n",
    "        \"\"\"\n",
    "        membership_discount = {\n",
    "            \"Platinum\": 0.15,\n",
    "            \"Gold\": 0.10,\n",
    "            \"Silver\": 0.08\n",
    "        }  # discount list\n",
    "        if membership not in membership_discount:\n",
    "            print(\"invalid membership\")\n",
    "\n",
    "        total_price = sum(pricelist)\n",
    "        discount = membership_discount[membership]\n",
    "        # calculate total price after applying discount\n",
    "        discounted_price = total_price - (total_price*discount)\n",
    "\n",
    "        print(f\"Total price for {membership} after discount : IDR {\n",
    "              discounted_price:.2f}\")\n",
    "        return discounted_price"
   ]
  },
  {
   "cell_type": "code",
   "execution_count": null,
   "metadata": {},
   "outputs": [
    {
     "name": "stdout",
     "output_type": "stream",
     "text": [
      "username : kai\n",
      "PacCommerce Membership Benefit\n",
      "\n",
      "+--------------+------------+-----------------------------------------------------------+\n",
      "|  Membership  |  Discount  |                      Another Benefit                      |\n",
      "+==============+============+===========================================================+\n",
      "|   Platinum   |    15%     | Benefit Silver + Gold +Vacation Voucher+ cashback max 30% |\n",
      "+--------------+------------+-----------------------------------------------------------+\n",
      "|     Gold     |    10%     |         Benefit Silver + Online Transport Voucher         |\n",
      "+--------------+------------+-----------------------------------------------------------+\n",
      "|    Silver    |     8%     |                       Food Voucher                        |\n",
      "+--------------+------------+-----------------------------------------------------------+\n",
      "PacCommerce Membership Requirement\n",
      "\n",
      "+--------------+-------------------------+------------------------+\n",
      "|  Membership  |   Monthly Expense (mio) |   Monthly Income (mio) |\n",
      "+==============+=========================+========================+\n",
      "|   Platinum   |                       8 |                     15 |\n",
      "+--------------+-------------------------+------------------------+\n",
      "|     Gold     |                       6 |                     10 |\n",
      "+--------------+-------------------------+------------------------+\n",
      "|    Silver    |                       5 |                      7 |\n",
      "+--------------+-------------------------+------------------------+\n",
      "Beomgyu's predicted membership is Platinum\n",
      "kai's predicted membership is Silver\n",
      "Total price for Silver after discount : IDR 460000.00\n"
     ]
    },
    {
     "data": {
      "text/plain": [
       "460000.0"
      ]
     },
     "execution_count": 4,
     "metadata": {},
     "output_type": "execute_result"
    }
   ],
   "source": [
    "cust1 = CustomerMembership(\"kai\")\n",
    "print(f'username : {cust1.username}')\n",
    "cust1.show_benefit()\n",
    "cust1.show_requirement()\n",
    "cust2 = CustomerMembership(\"Beomgyu\")\n",
    "cust2.predict_membership(10, 15)\n",
    "cust1.predict_membership(5, 7)\n",
    "cust1.calculate_price(\"Silver\", [100000, 200000, 50000, 150000])"
   ]
  }
 ],
 "metadata": {
  "kernelspec": {
   "display_name": ".venv",
   "language": "python",
   "name": "python3"
  },
  "language_info": {
   "codemirror_mode": {
    "name": "ipython",
    "version": 3
   },
   "file_extension": ".py",
   "mimetype": "text/x-python",
   "name": "python",
   "nbconvert_exporter": "python",
   "pygments_lexer": "ipython3",
   "version": "3.12.6"
  }
 },
 "nbformat": 4,
 "nbformat_minor": 2
}
